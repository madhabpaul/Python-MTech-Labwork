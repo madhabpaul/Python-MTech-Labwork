{
  "nbformat": 4,
  "nbformat_minor": 0,
  "metadata": {
    "colab": {
      "provenance": [],
      "authorship_tag": "ABX9TyPaZ+FZkhW5aGFTVgU6y1Q3"
    },
    "kernelspec": {
      "name": "python3",
      "display_name": "Python 3"
    },
    "language_info": {
      "name": "python"
    }
  },
  "cells": [
    {
      "cell_type": "code",
      "execution_count": 1,
      "metadata": {
        "colab": {
          "base_uri": "https://localhost:8080/"
        },
        "id": "qmLegOmhSKaU",
        "outputId": "05153fb9-72b3-4257-b8f3-08c8f58f4fc0"
      },
      "outputs": [
        {
          "output_type": "stream",
          "name": "stdout",
          "text": [
            "this code is an example of how to write functions\n",
            "12\n",
            "num1 is: 5\n",
            "8\n",
            "num1 is: 5\n",
            "8\n"
          ]
        }
      ],
      "source": [
        "def example():\n",
        "    print('this code is an example of how to write functions')\n",
        "    z = 3 + 9\n",
        "    print(z)\n",
        "    \n",
        "def simple_addition(num1,num2):\n",
        "    answer = num1 + num2\n",
        "    print('num1 is:', num1)\n",
        "    print(answer)\n",
        "\n",
        "# simple function\n",
        "example()\n",
        "# function with parameters\n",
        "simple_addition(5,3)\n",
        "# If you have a lot of parameters where it might be difficult to remember their\n",
        "# order, you could do something like:\n",
        "simple_addition(num2=3,num1=5)"
      ]
    }
  ]
}