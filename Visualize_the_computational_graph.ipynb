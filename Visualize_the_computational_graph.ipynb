{
  "nbformat": 4,
  "nbformat_minor": 0,
  "metadata": {
    "colab": {
      "provenance": [],
      "authorship_tag": "ABX9TyMX7WpH2dHMPWNAtTl4kNCb"
    },
    "kernelspec": {
      "name": "python3",
      "display_name": "Python 3"
    },
    "language_info": {
      "name": "python"
    }
  },
  "cells": [
    {
      "cell_type": "code",
      "execution_count": 1,
      "metadata": {
        "colab": {
          "base_uri": "https://localhost:8080/"
        },
        "id": "zFk45sOAXHzE",
        "outputId": "7f00b9a6-b6c9-40c2-ad9f-7a68a9f04399"
      },
      "outputs": [
        {
          "output_type": "stream",
          "name": "stderr",
          "text": [
            "WARNING:tensorflow:From /usr/local/lib/python3.8/dist-packages/tensorflow/python/compat/v2_compat.py:107: disable_resource_variables (from tensorflow.python.ops.variable_scope) is deprecated and will be removed in a future version.\n",
            "Instructions for updating:\n",
            "non-resource variables are not supported in the long term\n"
          ]
        },
        {
          "output_type": "stream",
          "name": "stdout",
          "text": [
            "Tensor(\"a:0\", shape=(1,), dtype=float32)\n",
            "Tensor(\"b:0\", shape=(1,), dtype=float32)\n",
            "Tensor(\"x:0\", shape=(1,), dtype=float32)\n",
            "Tensor(\"c:0\", shape=(1,), dtype=float32)\n",
            "Tensor(\"Mul:0\", shape=(1,), dtype=float32)\n",
            "[20.]\n"
          ]
        }
      ],
      "source": [
        "import warnings\n",
        "warnings.filterwarnings(\"ignore\")\n",
        "import tensorflow.compat.v1 as tf\n",
        "tf.disable_v2_behavior()\n",
        "# visualizing graph with tensorboard\n",
        "a = tf.constant([2.0], name='a')\n",
        "b = tf.constant([3.0], name='b')\n",
        "x = tf.add(a,b, name='x')\n",
        "c = tf.constant([4.0], name='c')\n",
        "y = tf.multiply(x,c)\n",
        "print(a)\n",
        "print(b)\n",
        "print(x)\n",
        "print(c)\n",
        "print(y)\n",
        "sess = tf.Session()\n",
        "writer = tf.summary.FileWriter('./graphs', sess.graph)\n",
        "writer.add_graph(tf.get_default_graph())\n",
        "print(sess.run(y))"
      ]
    }
  ]
}