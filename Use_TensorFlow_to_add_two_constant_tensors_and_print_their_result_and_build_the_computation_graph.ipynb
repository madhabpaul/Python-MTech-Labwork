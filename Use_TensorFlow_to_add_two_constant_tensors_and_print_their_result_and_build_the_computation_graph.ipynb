{
  "nbformat": 4,
  "nbformat_minor": 0,
  "metadata": {
    "colab": {
      "provenance": [],
      "authorship_tag": "ABX9TyOxkbN9jV5/mSHLbOuf4ocG"
    },
    "kernelspec": {
      "name": "python3",
      "display_name": "Python 3"
    },
    "language_info": {
      "name": "python"
    }
  },
  "cells": [
    {
      "cell_type": "code",
      "execution_count": 1,
      "metadata": {
        "colab": {
          "base_uri": "https://localhost:8080/"
        },
        "id": "O0gLNdzYWScl",
        "outputId": "cbc1415c-8831-49a5-a6c0-e80cf31d1a07"
      },
      "outputs": [
        {
          "output_type": "stream",
          "name": "stderr",
          "text": [
            "WARNING:tensorflow:From /usr/local/lib/python3.8/dist-packages/tensorflow/python/compat/v2_compat.py:107: disable_resource_variables (from tensorflow.python.ops.variable_scope) is deprecated and will be removed in a future version.\n",
            "Instructions for updating:\n",
            "non-resource variables are not supported in the long term\n"
          ]
        },
        {
          "output_type": "stream",
          "name": "stdout",
          "text": [
            "Tensor(\"Const:0\", shape=(), dtype=int32)\n",
            "Tensor(\"Const_1:0\", shape=(), dtype=int32)\n",
            "Tensor(\"Add:0\", shape=(), dtype=int32)\n",
            "5\n"
          ]
        }
      ],
      "source": [
        "import warnings\n",
        "warnings.filterwarnings(\"ignore\")\n",
        "import tensorflow.compat.v1 as tf\n",
        "tf.disable_v2_behavior() # this is to avoid using deprecated tf.compat.v1\n",
        "a = tf.constant(2)\n",
        "b = tf.constant(3)\n",
        "x = tf.add(a,b)\n",
        "print(a)\n",
        "print(b)\n",
        "print(x)\n",
        "sess = tf.Session()\n",
        "writer = tf.summary.FileWriter('./graphs', sess.graph)\n",
        "writer.add_graph(tf.get_default_graph())\n",
        "print(sess.run(x))"
      ]
    }
  ]
}