{
  "nbformat": 4,
  "nbformat_minor": 0,
  "metadata": {
    "colab": {
      "provenance": [],
      "authorship_tag": "ABX9TyPkqUF5CbQTsEJD13hq9Lfz"
    },
    "kernelspec": {
      "name": "python3",
      "display_name": "Python 3"
    },
    "language_info": {
      "name": "python"
    }
  },
  "cells": [
    {
      "cell_type": "code",
      "execution_count": null,
      "metadata": {
        "colab": {
          "base_uri": "https://localhost:8080/"
        },
        "id": "4JX840d_C6D7",
        "outputId": "34ccb20c-5477-4a49-d44f-75a5d105b01a"
      },
      "outputs": [
        {
          "output_type": "stream",
          "name": "stdout",
          "text": [
            "[INFO] training perceptron...\n",
            "[INFO] testing perceptron...\n",
            "[INFO] data=[1 1 1 1 1 1 0], ground-truth=1, pred=1\n",
            "[INFO] data=[0 1 1 0 0 0 0], ground-truth=0, pred=0\n",
            "[INFO] data=[1 1 0 1 1 0 1], ground-truth=1, pred=1\n",
            "[INFO] data=[1 1 1 1 0 0 1], ground-truth=0, pred=0\n",
            "[INFO] data=[0 1 1 0 0 1 1], ground-truth=1, pred=1\n",
            "[INFO] data=[1 0 1 1 0 1 1], ground-truth=0, pred=0\n",
            "[INFO] data=[1 0 1 1 1 1 1], ground-truth=1, pred=1\n",
            "[INFO] data=[1 1 1 0 0 0 0], ground-truth=0, pred=0\n",
            "[INFO] data=[1 1 1 1 1 1 1], ground-truth=1, pred=1\n",
            "[INFO] data=[1 1 1 0 0 1 1], ground-truth=0, pred=0\n"
          ]
        }
      ],
      "source": [
        "\n",
        "import numpy as np\n",
        "\n",
        "class Perceptron:\n",
        "    def __init__(self,N,alpha = 0.1):\n",
        "        self.W = np.random.randn(N + 1)/np.sqrt(N)\n",
        "        self.alpha = alpha\n",
        "\n",
        "    def step(self,x):\n",
        "        return 1 if x>0 else 0\n",
        "\n",
        "    def fit(self, X, y, epochs=10):\n",
        "        X = np.c_[X, np.ones((X.shape[0]))]\n",
        "        for epoch in np.arange(0, epochs):\n",
        "            for (x, target) in zip(X, y):\n",
        "                p = self.step(np.dot(x, self.W))\n",
        "                if p != target:\n",
        "                    error = p - target\n",
        "                    self.W += -self.alpha * error * x\n",
        "\n",
        "    def predict(self, X, addBias=True):\n",
        "        X = np.atleast_2d(X)\n",
        "        if addBias:\n",
        "            X = np.c_[X, np.ones((X.shape[0]))]\n",
        "            return self.step(np.dot(X, self.W))\n",
        "\n",
        "\n",
        "\n",
        "# 7 segment display\n",
        "X = np.array([[1,1,1,1,1,1,0], [0,1,1,0,0,0,0], \n",
        "[1,1,0,1,1,0,1], [1,1,1,1,0,0,1], [0,1,1,0,0,1,1], \n",
        "[1,0,1,1,0,1,1],[1,0,1,1,1,1,1],[1,1,1,0,0,0,0], \n",
        "[1,1,1,1,1,1,1,],[1,1,1,0,0,1,1]])\n",
        "y = np.array([[1],[0],[1],[0],[1],[0],[1],[0],[1],[0]])\n",
        "print(\"[INFO] training perceptron...\")\n",
        "p = Perceptron(X.shape[1], alpha=0.1)\n",
        "p.fit(X, y, epochs=20)\n",
        "print(\"[INFO] testing perceptron...\")\n",
        "for (x, target) in zip(X, y):\n",
        "    pred = p.predict(x)\n",
        "    print(\"[INFO] data={}, ground-truth={}, pred={}\".format(x, target[0], pred))"
      ]
    }
  ]
}