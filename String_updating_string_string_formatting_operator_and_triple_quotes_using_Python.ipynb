{
  "nbformat": 4,
  "nbformat_minor": 0,
  "metadata": {
    "colab": {
      "provenance": [],
      "authorship_tag": "ABX9TyMKFej0Tc6d/NRXVGUeCmwR"
    },
    "kernelspec": {
      "name": "python3",
      "display_name": "Python 3"
    },
    "language_info": {
      "name": "python"
    }
  },
  "cells": [
    {
      "cell_type": "code",
      "execution_count": 1,
      "metadata": {
        "colab": {
          "base_uri": "https://localhost:8080/"
        },
        "id": "G4LzW9uwNtXi",
        "outputId": "385c89bc-bc64-45f2-96a5-22f57cd26a55"
      },
      "outputs": [
        {
          "output_type": "stream",
          "name": "stdout",
          "text": [
            "Madhab Paul\n",
            "M\n",
            "d\n",
            "ab Paul\n",
            "dhab Pa\n",
            "Madhab PaulMadhab Paul\n",
            "Madhab Paul Paul\n",
            "Hello Madhab\n",
            "Updating string :- Hello Paul\n",
            "My name is Madhab and weight is 75\n",
            " This is an example of triple qoutes, which\n",
            "helps to write multiple lines, tab \t and\n",
            "also newlines exclusively given or wrote like this \n",
            " is also dispalyed\n"
          ]
        }
      ],
      "source": [
        "str = \"Madhab Paul\"\n",
        "print(str)\n",
        "print(str[0])\n",
        "print(str[2])\n",
        "print(str[4:])\n",
        "print(str[2:9])\n",
        "print(str * 2)\n",
        "print(str + \" Paul\")\n",
        "# Updating string\n",
        "var1 = \"Hello Madhab\"\n",
        "print (var1)\n",
        "print (\"Updating string :-\", var1[:6] + \"Paul\")\n",
        "# string formatting operator\n",
        "print (\"My name is %s and weight is %d\" % (\"Madhab\",75))\n",
        "# Triple quote\n",
        "para_string = \"\"\" This is an example of triple qoutes, which\n",
        "helps to write multiple lines, tab \\t and\n",
        "also newlines exclusively given or wrote like this \\n is also dispalyed\"\"\"\n",
        "print (para_string)"
      ]
    }
  ]
}