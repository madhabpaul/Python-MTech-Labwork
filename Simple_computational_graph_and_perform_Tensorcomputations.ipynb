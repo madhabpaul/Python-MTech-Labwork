{
  "nbformat": 4,
  "nbformat_minor": 0,
  "metadata": {
    "colab": {
      "provenance": [],
      "authorship_tag": "ABX9TyNVAwImp7/+k6djmsrTBaLY"
    },
    "kernelspec": {
      "name": "python3",
      "display_name": "Python 3"
    },
    "language_info": {
      "name": "python"
    }
  },
  "cells": [
    {
      "cell_type": "code",
      "execution_count": 1,
      "metadata": {
        "id": "gIWpiY0WYeAi",
        "colab": {
          "base_uri": "https://localhost:8080/"
        },
        "outputId": "e3383fbe-cd28-47db-cc53-3ef1a2c4ef0b"
      },
      "outputs": [
        {
          "output_type": "stream",
          "name": "stderr",
          "text": [
            "WARNING:tensorflow:From /usr/local/lib/python3.8/dist-packages/tensorflow/python/compat/v2_compat.py:107: disable_resource_variables (from tensorflow.python.ops.variable_scope) is deprecated and will be removed in a future version.\n",
            "Instructions for updating:\n",
            "non-resource variables are not supported in the long term\n"
          ]
        },
        {
          "output_type": "stream",
          "name": "stdout",
          "text": [
            "Tensor(\"Const:0\", shape=(), dtype=float32)\n",
            "Tensor(\"Const_1:0\", shape=(), dtype=float32)\n",
            "Tensor(\"add:0\", shape=(), dtype=float32)\n",
            "7.0\n",
            "{'ab': (3.0, 4.0), 'total': 7.0}\n",
            "[0.9461417  0.00472951 0.35614395]\n",
            "[0.39144266 0.84033024 0.70117664]\n",
            "(array([1.1449807, 1.4314128, 1.3578266], dtype=float32), array([2.1449807, 2.4314127, 2.3578267], dtype=float32))\n"
          ]
        }
      ],
      "source": [
        "import warnings\n",
        "warnings.filterwarnings(\"ignore\")\n",
        "import tensorflow.compat.v1 as tf\n",
        "tf.disable_v2_behavior()\n",
        "# Let's build a simple computational graph\n",
        "a = tf.constant(3.0, dtype=tf.float32)\n",
        "b = tf.constant(4.0) # also tf.float32 implicitly\n",
        "total = a + b\n",
        "print(a)\n",
        "print(b)\n",
        "print(total)\n",
        "# ******************************************************\n",
        "# The following code creates a tf.Session object and then invokes its run method to\n",
        "# evaluate the total tensor we created\n",
        "sess = tf.Session()\n",
        "print(sess.run(total))\n",
        "# You can pass multiple tensors to tf.Session.run. The run method transparently\n",
        "# handles any combination of tuples or dictionaries, as in the following example:\n",
        "print(sess.run({'ab':(a, b), 'total':total}))\n",
        "# During a call to tf.Session.run any tf.Tensor only has a single value.\n",
        "# For example, the following code calls tf.random_uniform to produce a tf.Tensor that\n",
        "# generates a random 3-element vector (with values in [0,1)):\n",
        "vec = tf.random_uniform(shape=(3,))\n",
        "out1 = vec + 1\n",
        "out2 = vec + 2\n",
        "print(sess.run(vec))\n",
        "print(sess.run(vec))\n",
        "print(sess.run((out1, out2)))"
      ]
    }
  ]
}