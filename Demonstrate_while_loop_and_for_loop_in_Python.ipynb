{
  "nbformat": 4,
  "nbformat_minor": 0,
  "metadata": {
    "colab": {
      "provenance": [],
      "authorship_tag": "ABX9TyNgRkKIIYW6S/1xfzp30z6S"
    },
    "kernelspec": {
      "name": "python3",
      "display_name": "Python 3"
    },
    "language_info": {
      "name": "python"
    }
  },
  "cells": [
    {
      "cell_type": "code",
      "execution_count": 1,
      "metadata": {
        "colab": {
          "base_uri": "https://localhost:8080/"
        },
        "id": "PhI7mWxWQexk",
        "outputId": "2d2aa5a5-7ece-4c5b-dec1-3358a0b626b2"
      },
      "outputs": [
        {
          "output_type": "stream",
          "name": "stdout",
          "text": [
            "1, 2, 3, 4, 5, 6, 7, 8, 9, \n",
            "\n",
            "1, 5, 6, 6, 2, 1, 5, 2, 1, 4, \n",
            "\n",
            "1, 2, 3, 4, 5, 6, 7, 8, 9, 10, "
          ]
        }
      ],
      "source": [
        "condition = 1\n",
        "while condition < 10:\n",
        "    print(condition, end=\", \")\n",
        "    condition += 1\n",
        "\n",
        "# For loop\n",
        "exampleList = [1,5,6,6,2,1,5,2,1,4]\n",
        "print(\"\\n\")\n",
        "for x in exampleList:\n",
        "    print(x, end=\", \")\n",
        "print( \"\\n\")\n",
        "for x in range(1,11):\n",
        "    print(x, end=\", \")"
      ]
    }
  ]
}