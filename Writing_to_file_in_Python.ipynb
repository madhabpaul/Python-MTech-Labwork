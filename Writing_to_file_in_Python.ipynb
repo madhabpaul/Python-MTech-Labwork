{
  "nbformat": 4,
  "nbformat_minor": 0,
  "metadata": {
    "colab": {
      "provenance": [],
      "authorship_tag": "ABX9TyMcXIqL27IXQotQ8e4Jtm1R"
    },
    "kernelspec": {
      "name": "python3",
      "display_name": "Python 3"
    },
    "language_info": {
      "name": "python"
    }
  },
  "cells": [
    {
      "cell_type": "code",
      "execution_count": 1,
      "metadata": {
        "id": "tAraApvPSyTy"
      },
      "outputs": [],
      "source": [
        "text = 'Sample Text to Save\\nNew line!'\n",
        "# notifies Python that you are opening this file, with the intention to write\n",
        "saveFile = open('exampleFile.txt','w')\n",
        "# actually writes the information\n",
        "saveFile.write(text)\n",
        "# It is important to remember to actually close the file, otherwise it will\n",
        "# hang for a while and could cause problems in your script\n",
        "saveFile.close()"
      ]
    }
  ]
}