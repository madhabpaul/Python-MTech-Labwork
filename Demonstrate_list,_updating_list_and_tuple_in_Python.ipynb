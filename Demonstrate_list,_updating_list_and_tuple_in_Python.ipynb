{
  "nbformat": 4,
  "nbformat_minor": 0,
  "metadata": {
    "colab": {
      "provenance": [],
      "authorship_tag": "ABX9TyNVRtkQhmT3uAgIGSxppU76"
    },
    "kernelspec": {
      "name": "python3",
      "display_name": "Python 3"
    },
    "language_info": {
      "name": "python"
    }
  },
  "cells": [
    {
      "cell_type": "code",
      "execution_count": 1,
      "metadata": {
        "colab": {
          "base_uri": "https://localhost:8080/"
        },
        "id": "AGUgebGHOhGD",
        "outputId": "f31df658-0b2f-49f6-9155-ade08d34f751"
      },
      "outputs": [
        {
          "output_type": "stream",
          "name": "stdout",
          "text": [
            "['mou', 'liza', 'sona', '22', '21', '16']\n",
            "mou\n",
            "['sona', '22', '21', '16']\n",
            "s\n",
            "['m', 's']\n",
            "['mou', 'liza', 'sona', '22', '21', '16', 'm', 's']\n",
            "['physics', 'chemistry', 1997, 2001]\n",
            "Value available at index 2:\n",
            "1997\n",
            "New value available at index 2:\n",
            "2003\n",
            "after deleting value at index 1 the list looks like this:\n",
            "['physics', 2003, 2001]\n",
            "('mousmita', 'sona', 22, 28)\n",
            "(22, 28)\n",
            "('sona', 22, 28)\n",
            "28\n",
            "('mousmita', 'sona', 22, 28, 22, 28)\n"
          ]
        }
      ],
      "source": [
        "biglist = [\"mou\", \"liza\", \"sona\", \"22\", \"21\", \"16\"]\n",
        "tinylist = [\"m\", \"s\"]\n",
        "print(biglist)\n",
        "print(biglist[0])\n",
        "print(biglist[2:])\n",
        "print(tinylist[1])\n",
        "print(tinylist)\n",
        "print(biglist + tinylist)\n",
        "# updating list\n",
        "list = [\"physics\", \"chemistry\", 1997, 2001]\n",
        "print(list)\n",
        "print(\"Value available at index 2:\")\n",
        "print(list[2])\n",
        "list[2] = 2003\n",
        "print(\"New value available at index 2:\")\n",
        "print(list[2])\n",
        "del list[1]\n",
        "print(\"after deleting value at index 1 the list looks like this:\")\n",
        "print(list)\n",
        "# tuple\n",
        "bigtup = (\"mousmita\", \"sona\", 22, 28)\n",
        "tinytup = (22, 28)\n",
        "print(bigtup)\n",
        "print(tinytup)\n",
        "print(bigtup[1:])\n",
        "print(tinytup[1])\n",
        "print(bigtup + tinytup)"
      ]
    }
  ]
}