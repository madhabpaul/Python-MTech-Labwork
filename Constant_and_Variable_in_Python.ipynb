{
  "nbformat": 4,
  "nbformat_minor": 0,
  "metadata": {
    "colab": {
      "provenance": [],
      "authorship_tag": "ABX9TyMjfPWN5Ux0VzvvsPi/m/N9"
    },
    "kernelspec": {
      "name": "python3",
      "display_name": "Python 3"
    },
    "language_info": {
      "name": "python"
    }
  },
  "cells": [
    {
      "cell_type": "code",
      "execution_count": 1,
      "metadata": {
        "colab": {
          "base_uri": "https://localhost:8080/"
        },
        "id": "DwrZ4musMaAw",
        "outputId": "5d7f2fe7-386e-45e5-c980-8ccdbbd50fab"
      },
      "outputs": [
        {
          "output_type": "stream",
          "name": "stdout",
          "text": [
            "100\n",
            "1000.0\n",
            "Madhab\n",
            "1\n",
            "Madhab\n",
            "Paul\n"
          ]
        }
      ],
      "source": [
        "# Constant\n",
        "counter = 100\n",
        "miles = 1000.0\n",
        "name = 'Madhab'\n",
        "print(counter)\n",
        "print(miles)\n",
        "print(name)\n",
        "a = b = c = 1\n",
        "a,b,c = 1, 'Madhab','Paul'\n",
        "print(a)\n",
        "print(b)\n",
        "print(c)\n",
        "del a"
      ]
    }
  ]
}