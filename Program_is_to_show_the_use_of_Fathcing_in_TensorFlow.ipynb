{
  "nbformat": 4,
  "nbformat_minor": 0,
  "metadata": {
    "colab": {
      "provenance": [],
      "authorship_tag": "ABX9TyPn87lZCTTT8TNknlCgaFp1"
    },
    "kernelspec": {
      "name": "python3",
      "display_name": "Python 3"
    },
    "language_info": {
      "name": "python"
    }
  },
  "cells": [
    {
      "cell_type": "code",
      "execution_count": 1,
      "metadata": {
        "colab": {
          "base_uri": "https://localhost:8080/"
        },
        "id": "494cfP0DkFbU",
        "outputId": "0896acc5-2fc8-4197-eee1-c65f06982dad"
      },
      "outputs": [
        {
          "output_type": "stream",
          "name": "stderr",
          "text": [
            "WARNING:tensorflow:From /usr/local/lib/python3.8/dist-packages/tensorflow/python/compat/v2_compat.py:107: disable_resource_variables (from tensorflow.python.ops.variable_scope) is deprecated and will be removed in a future version.\n",
            "Instructions for updating:\n",
            "non-resource variables are not supported in the long term\n"
          ]
        },
        {
          "output_type": "stream",
          "name": "stdout",
          "text": [
            "Tensor(\"Const:0\", shape=(2, 2), dtype=float32)\n",
            "<tf.Variable 'Variable:0' shape=(2, 2) dtype=float32_ref>\n",
            "Tensor(\"MatMul:0\", shape=(2, 2), dtype=float32)\n",
            "Tensor(\"Softmax:0\", shape=(2, 2), dtype=float32)\n",
            "name: \"Variable/Assign\"\n",
            "op: \"Assign\"\n",
            "input: \"Variable\"\n",
            "input: \"random_uniform/RandomUniform\"\n",
            "attr {\n",
            "  key: \"T\"\n",
            "  value {\n",
            "    type: DT_FLOAT\n",
            "  }\n",
            "}\n",
            "attr {\n",
            "  key: \"_class\"\n",
            "  value {\n",
            "    list {\n",
            "      s: \"loc:@Variable\"\n",
            "    }\n",
            "  }\n",
            "}\n",
            "attr {\n",
            "  key: \"use_locking\"\n",
            "  value {\n",
            "    b: true\n",
            "  }\n",
            "}\n",
            "attr {\n",
            "  key: \"validate_shape\"\n",
            "  value {\n",
            "    b: true\n",
            "  }\n",
            "}\n",
            "\n",
            "[[9.992143e-01 7.857345e-04]\n",
            " [4.395184e-01 5.604816e-01]]\n"
          ]
        }
      ],
      "source": [
        "#!/usr/bin/python\n",
        "import warnings\n",
        "warnings.filterwarnings(\"ignore\")\n",
        "import tensorflow.compat.v1 as tf\n",
        "tf.disable_v2_behavior()\n",
        "x = tf.constant([[37.0, -23.0], [1.0, 4.0]])\n",
        "w = tf.Variable(tf.random_uniform([2, 2]))\n",
        "y = tf.matmul(x, w)\n",
        "output = tf.nn.softmax(y)\n",
        "init_op = w.initializer\n",
        "print(x)\n",
        "print(w)\n",
        "print(y)\n",
        "print(output)\n",
        "print(init_op)\n",
        "with tf.Session() as sess:\n",
        "# Run the initializer on `w`.\n",
        "    sess.run(init_op)\n",
        "# Evaluate `output`. `sess.run(output)` will return a NumPy array containing\n",
        "# the result of the computation.\n",
        "    print(sess.run(output))\n",
        "# Evaluate `y` and `output`. Note that `y` will only be computed once, and its\n",
        "# result used both to return `y_val` and as an input to the `tf.nn.softmax()`\n",
        "# op. Both `y_val` and `output_val` will be NumPy arrays.\n",
        "    y_val, output_val = sess.run([y, output])\n"
      ]
    }
  ]
}