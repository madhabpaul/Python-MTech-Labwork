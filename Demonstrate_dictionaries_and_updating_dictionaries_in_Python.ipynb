{
  "nbformat": 4,
  "nbformat_minor": 0,
  "metadata": {
    "colab": {
      "provenance": [],
      "authorship_tag": "ABX9TyPZ+TwDrKTs/pqs81FyWV8b"
    },
    "kernelspec": {
      "name": "python3",
      "display_name": "Python 3"
    },
    "language_info": {
      "name": "python"
    }
  },
  "cells": [
    {
      "cell_type": "code",
      "execution_count": 1,
      "metadata": {
        "colab": {
          "base_uri": "https://localhost:8080/"
        },
        "id": "HKRFwvHsPi7n",
        "outputId": "991f063f-19a3-412e-98bb-58bce3213e0d"
      },
      "outputs": [
        {
          "output_type": "stream",
          "name": "stdout",
          "text": [
            "{'one': 'This is value for one', '2': 'This is value for 2'}\n",
            "This is value for one\n",
            "This is value for 2\n",
            "dict_values(['This is value for one', 'This is value for 2'])\n",
            "dict_keys(['one', '2'])\n",
            "{'name': 'MADHAB', 'course': 'Phd', 'year': '2022', 'dept': 'CSE'}\n",
            "dict_keys(['name', 'course', 'year', 'dept'])\n",
            "dict_values(['MADHAB', 'Phd', '2022', 'CSE'])\n",
            "{'name': 'MADHAB', 'course': 'Phd', 'year': '2022', 'dept': 'CSE', 'field': 'Speech', 'second_field': 'DNN'}\n"
          ]
        }
      ],
      "source": [
        "\"\"\" Dictionaries are a data structure in Python that are very similar to\n",
        "associative arrays. They are non-ordered and contain \"keys\" and \"values.\" Each\n",
        "key is unique and the values can be just about anything, but usually they are\n",
        "string, int, or float, or a list of these things.\"\"\"\n",
        "dict = {}\n",
        "dict['one'] = \"This is value for one\"\n",
        "dict['2'] = \"This is value for 2\"\n",
        "tinydict = {'name':'MADHAB', 'course':'Phd', 'year':'2022', 'dept':'CSE'}\n",
        "print (dict)\n",
        "print (dict[\"one\"])\n",
        "print (dict['2'])\n",
        "print (dict.values())\n",
        "print (dict.keys())\n",
        "print (tinydict)\n",
        "print (tinydict.keys())\n",
        "print (tinydict.values())\n",
        "# updating dictionary\n",
        "tinydict['field']= 'Speech'\n",
        "tinydict['second_field']='DNN'\n",
        "print (tinydict)"
      ]
    }
  ]
}