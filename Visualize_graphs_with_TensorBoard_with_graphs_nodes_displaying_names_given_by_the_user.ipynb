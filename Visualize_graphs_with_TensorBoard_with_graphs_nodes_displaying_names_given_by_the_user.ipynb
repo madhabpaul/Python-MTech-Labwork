{
  "nbformat": 4,
  "nbformat_minor": 0,
  "metadata": {
    "colab": {
      "provenance": [],
      "authorship_tag": "ABX9TyPea9njtkAvbXlY1Tg0OZAI"
    },
    "kernelspec": {
      "name": "python3",
      "display_name": "Python 3"
    },
    "language_info": {
      "name": "python"
    }
  },
  "cells": [
    {
      "cell_type": "code",
      "execution_count": 1,
      "metadata": {
        "colab": {
          "base_uri": "https://localhost:8080/"
        },
        "id": "3kr4RrrpWmHA",
        "outputId": "fcb065f7-2a9a-410a-b3da-9398edbb9737"
      },
      "outputs": [
        {
          "output_type": "stream",
          "name": "stderr",
          "text": [
            "WARNING:tensorflow:From /usr/local/lib/python3.8/dist-packages/tensorflow/python/compat/v2_compat.py:107: disable_resource_variables (from tensorflow.python.ops.variable_scope) is deprecated and will be removed in a future version.\n",
            "Instructions for updating:\n",
            "non-resource variables are not supported in the long term\n"
          ]
        },
        {
          "output_type": "stream",
          "name": "stdout",
          "text": [
            "Tensor(\"a:0\", shape=(2,), dtype=int32)\n",
            "Tensor(\"b:0\", shape=(2,), dtype=int32)\n",
            "Tensor(\"x:0\", shape=(2,), dtype=int32)\n",
            "[5 8]\n"
          ]
        }
      ],
      "source": [
        "import warnings\n",
        "warnings.filterwarnings(\"ignore\")\n",
        "import tensorflow.compat.v1 as tf\n",
        "tf.disable_v2_behavior()\n",
        "# ******************************************************\n",
        "# visualizing graph with tensorboard, with graphs node displaying name given by user\n",
        "a = tf.constant([2,2], name='a')\n",
        "b = tf.constant([3,6], name='b')\n",
        "x = tf.add(a,b, name='x')\n",
        "print(a)\n",
        "print(b)\n",
        "print(x)\n",
        "sess = tf.Session()\n",
        "writer = tf.summary.FileWriter('./graphs', sess.graph)\n",
        "writer.add_graph(tf.get_default_graph())\n",
        "print(sess.run(x))"
      ]
    }
  ]
}