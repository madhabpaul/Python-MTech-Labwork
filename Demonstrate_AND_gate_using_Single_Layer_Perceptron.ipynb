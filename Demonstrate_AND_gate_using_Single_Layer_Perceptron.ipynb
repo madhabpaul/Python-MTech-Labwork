{
  "nbformat": 4,
  "nbformat_minor": 0,
  "metadata": {
    "colab": {
      "provenance": [],
      "authorship_tag": "ABX9TyNQNWQUt9od1LgKAkiL7nMg"
    },
    "kernelspec": {
      "name": "python3",
      "display_name": "Python 3"
    },
    "language_info": {
      "name": "python"
    }
  },
  "cells": [
    {
      "cell_type": "code",
      "execution_count": 1,
      "metadata": {
        "colab": {
          "base_uri": "https://localhost:8080/"
        },
        "id": "rw_uS84Nnblc",
        "outputId": "21e248f9-7a25-447c-fb6e-8d44918f3c4f"
      },
      "outputs": [
        {
          "output_type": "stream",
          "name": "stdout",
          "text": [
            "Given Input            Actual Output            Predicted Output\n",
            "[0 0]                      0                           0\n",
            "[0 1]                      0                           0\n",
            "[1 0]                      0                           0\n",
            "[1 1]                      1                           1\n"
          ]
        }
      ],
      "source": [
        "# import the necessary packages\n",
        "import numpy as np\n",
        "\n",
        "class Perceptron:\n",
        "    def __init__(self, N, alpha=0.1):\n",
        "        # initialize the weight matrix and store the learning rate\n",
        "        self.W = np.random.randn(N + 1) / np.sqrt(N)\n",
        "        self.alpha = alpha\n",
        "\n",
        "    def step(self, x):\n",
        "        # apply the step function\n",
        "        return 1 if x > 0 else 0\n",
        "\n",
        "    def fit(self, X, y, epochs=10):\n",
        "        # insert a column of 1's as the last entry in the feature\n",
        "        # matrix -- this little trick allows us to treat the bias\n",
        "        # as a trainable parameter within the weight matrix\n",
        "        X = np.c_[X, np.ones((X.shape[0]))]\n",
        "        # loop over the desired number of epochs\n",
        "        for epoch in np.arange(0, epochs):\n",
        "            # loop over each individual data point\n",
        "            for (x, target) in zip(X, y):\n",
        "                # take the dot product between the input features\n",
        "                # and the weight matrix, then pass this value\n",
        "                # through the step function to obtain the prediction\n",
        "                p = self.step(np.dot(x, self.W))\n",
        "                # only perform a weight update if our prediction\n",
        "                # does not match the target\n",
        "                if p != target:\n",
        "                    # determine the error\n",
        "                    error = p - target\n",
        "                    # update the weight matrix\n",
        "                    self.W += -self.alpha * error * x\n",
        "\n",
        "    def predict(self, X, addBias=True):\n",
        "        # ensure our input is a matrix\n",
        "        X = np.atleast_2d(X)\n",
        "        # check to see if the bias column should be added\n",
        "        if addBias:\n",
        "            # insert a column of 1's as the last entry in the feature\n",
        "            # matrix (bias)\n",
        "            X = np.c_[X, np.ones((X.shape[0]))]\n",
        "            # take the dot product between the input features and the\n",
        "            # weight matrix, then pass the value through the step\n",
        "            # function\n",
        "            return self.step(np.dot(X, self.W))\n",
        "\n",
        "\n",
        "# construct the AND dataset\n",
        "X = np.array([[0, 0], [0, 1], [1, 0], [1, 1]])\n",
        "y = np.array([[0], [0], [0], [1]])\n",
        "\n",
        "# define our perceptron and train it\n",
        "p = Perceptron(X.shape[1], alpha=0.1)\n",
        "p.fit(X, y, epochs=20)\n",
        "print(\"Given Input\", \" \" * 10, \"Actual Output\", \" \" * 10, \"Predicted Output\")\n",
        "for (x, target) in zip(X, y):\n",
        "    pred = p.predict(x)\n",
        "    print(x, \" \" * 20, target[0], \" \" * 25, pred)\n",
        "\n",
        "\n"
      ]
    }
  ]
}