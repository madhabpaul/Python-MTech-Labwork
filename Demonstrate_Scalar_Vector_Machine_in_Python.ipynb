{
  "nbformat": 4,
  "nbformat_minor": 0,
  "metadata": {
    "colab": {
      "provenance": [],
      "authorship_tag": "ABX9TyMzbWRqLSyt/QIic5iGLJ5P"
    },
    "kernelspec": {
      "name": "python3",
      "display_name": "Python 3"
    },
    "language_info": {
      "name": "python"
    }
  },
  "cells": [
    {
      "cell_type": "code",
      "execution_count": 1,
      "metadata": {
        "colab": {
          "base_uri": "https://localhost:8080/"
        },
        "id": "-C7yffo-Ukak",
        "outputId": "503f3c33-c987-4bfe-9371-0dffdef11f04"
      },
      "outputs": [
        {
          "output_type": "stream",
          "name": "stdout",
          "text": [
            "[[0, 0], [1, 1]]\n",
            "[0, 1]\n",
            "[1]\n"
          ]
        }
      ],
      "source": [
        "from sklearn import svm\n",
        "X = [[0, 0], [1, 1]]\n",
        "y = [0, 1]\n",
        "print(X)\n",
        "print(y)\n",
        "# SVC is for support vector classification .\n",
        "clf = svm.SVC(kernel='rbf', max_iter=100)\n",
        "# fit the model\n",
        "clf.fit(X, y)\n",
        "#After being fitted, the model can then be used to predict new values:\n",
        "p = clf.predict([[2., 2.]])\n",
        "print(p)"
      ]
    }
  ]
}