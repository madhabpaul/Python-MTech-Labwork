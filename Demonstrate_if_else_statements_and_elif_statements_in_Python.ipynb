{
  "nbformat": 4,
  "nbformat_minor": 0,
  "metadata": {
    "colab": {
      "provenance": [],
      "authorship_tag": "ABX9TyMtMulNV+q1JmF8Wz53p+Ei"
    },
    "kernelspec": {
      "name": "python3",
      "display_name": "Python 3"
    },
    "language_info": {
      "name": "python"
    }
  },
  "cells": [
    {
      "cell_type": "code",
      "execution_count": 1,
      "metadata": {
        "colab": {
          "base_uri": "https://localhost:8080/"
        },
        "id": "cm-nJWTeRkPJ",
        "outputId": "2f31ed99-c7a0-4bf8-d919-73a300342c88"
      },
      "outputs": [
        {
          "output_type": "stream",
          "name": "stdout",
          "text": [
            "y is greater than x\n",
            "x is less than z\n"
          ]
        }
      ],
      "source": [
        "# If-else statement\n",
        "x = 5\n",
        "y = 10\n",
        "if x > y:\n",
        "    print('x is greater than y')\n",
        "else:\n",
        "    print('y is greater than x')\n",
        "# \"elif\" statement\n",
        "x = 5\n",
        "y = 10\n",
        "z = 22\n",
        "if x > y:\n",
        "    print('x is greater than y')\n",
        "elif x < z:\n",
        "    print('x is less than z')\n",
        "else:\n",
        "    print('if and elif never ran...')"
      ]
    }
  ]
}