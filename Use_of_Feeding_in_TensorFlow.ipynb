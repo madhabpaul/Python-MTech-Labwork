{
  "nbformat": 4,
  "nbformat_minor": 0,
  "metadata": {
    "colab": {
      "provenance": [],
      "authorship_tag": "ABX9TyPCUNz6DmMo14O3NfhKoUa9"
    },
    "kernelspec": {
      "name": "python3",
      "display_name": "Python 3"
    },
    "language_info": {
      "name": "python"
    }
  },
  "cells": [
    {
      "cell_type": "code",
      "execution_count": 1,
      "metadata": {
        "colab": {
          "base_uri": "https://localhost:8080/"
        },
        "id": "c3eorXsNk7LM",
        "outputId": "cef08949-1ecf-4cdf-a3c0-729453c2cab9"
      },
      "outputs": [
        {
          "output_type": "stream",
          "name": "stderr",
          "text": [
            "WARNING:tensorflow:From /usr/local/lib/python3.8/dist-packages/tensorflow/python/compat/v2_compat.py:107: disable_resource_variables (from tensorflow.python.ops.variable_scope) is deprecated and will be removed in a future version.\n",
            "Instructions for updating:\n",
            "non-resource variables are not supported in the long term\n"
          ]
        },
        {
          "output_type": "stream",
          "name": "stdout",
          "text": [
            "7.5\n",
            "[3. 7.]\n"
          ]
        }
      ],
      "source": [
        "import warnings\n",
        "warnings.filterwarnings(\"ignore\")\n",
        "import tensorflow.compat.v1 as tf\n",
        "tf.disable_v2_behavior()\n",
        "# ******************************************************\n",
        "# Feeding\n",
        "x = tf.placeholder(tf.float32)\n",
        "y = tf.placeholder(tf.float32)\n",
        "z = x + y\n",
        "# We can evaluate this graph with multiple inputs by using the feed_dict argument of\n",
        "# the run method to feed concrete values to the placeholder. feed_dict argument can be\n",
        "# used to overwrite any tensor in the graph.\n",
        "sess = tf.Session()\n",
        "print(sess.run(z, feed_dict={x: 3, y: 4.5}))\n",
        "print(sess.run(z, feed_dict={x: [1, 3], y: [2, 4]}))"
      ]
    }
  ]
}