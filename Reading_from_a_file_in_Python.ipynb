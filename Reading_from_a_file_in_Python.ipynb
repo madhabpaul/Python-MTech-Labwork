{
  "nbformat": 4,
  "nbformat_minor": 0,
  "metadata": {
    "colab": {
      "provenance": [],
      "authorship_tag": "ABX9TyM2i7cZmLFLr2QcVToAlS/w"
    },
    "kernelspec": {
      "name": "python3",
      "display_name": "Python 3"
    },
    "language_info": {
      "name": "python"
    }
  },
  "cells": [
    {
      "cell_type": "code",
      "execution_count": null,
      "metadata": {
        "id": "Sf-dm4hbTExD"
      },
      "outputs": [],
      "source": [
        "# similar syntax as you've seen, 'r' for reading. You can just throw a .read() at\n",
        "# the end, and you get:\n",
        "readMe = open('exampleFile.txt','r').read()\n",
        "print(readMe)\n",
        "# this will instead read the file into a python list.\n",
        "readMe = open('exampleFile.txt','r').readlines()\n",
        "print(readMe)"
      ]
    }
  ]
}