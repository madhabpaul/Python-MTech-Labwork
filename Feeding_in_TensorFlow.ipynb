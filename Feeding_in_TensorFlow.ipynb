{
  "nbformat": 4,
  "nbformat_minor": 0,
  "metadata": {
    "colab": {
      "provenance": [],
      "authorship_tag": "ABX9TyM/xJITptOva2xrLLNGKINK"
    },
    "kernelspec": {
      "name": "python3",
      "display_name": "Python 3"
    },
    "language_info": {
      "name": "python"
    }
  },
  "cells": [
    {
      "cell_type": "code",
      "execution_count": 1,
      "metadata": {
        "colab": {
          "base_uri": "https://localhost:8080/"
        },
        "id": "56hofGs2lbKj",
        "outputId": "99438d27-87e7-4680-eb8b-45143eee4a22"
      },
      "outputs": [
        {
          "output_type": "stream",
          "name": "stderr",
          "text": [
            "WARNING:tensorflow:From /usr/local/lib/python3.8/dist-packages/tensorflow/python/compat/v2_compat.py:107: disable_resource_variables (from tensorflow.python.ops.variable_scope) is deprecated and will be removed in a future version.\n",
            "Instructions for updating:\n",
            "non-resource variables are not supported in the long term\n"
          ]
        },
        {
          "output_type": "stream",
          "name": "stdout",
          "text": [
            "[1. 4. 9.]\n",
            "[ 0.  0. 25.]\n"
          ]
        }
      ],
      "source": [
        "#!/usr/bin/python\n",
        "import warnings\n",
        "warnings.filterwarnings(\"ignore\")\n",
        "import tensorflow.compat.v1 as tf\n",
        "tf.disable_v2_behavior()\n",
        "# ******************************************************\n",
        "# Define a placeholder that expects a vector of three floating-point values,\n",
        "# and a computation that depends on it.\n",
        "x = tf.placeholder(tf.float32, shape=[3])\n",
        "y = tf.square(x)\n",
        "with tf.Session() as sess:\n",
        "# Feeding a value changes the result that is returned when you evaluate `y`.\n",
        "    print(sess.run(y, {x: [1.0, 2.0, 3.0]})) # => \"[1.0, 4.0, 9.0]\"\n",
        "    print(sess.run(y, {x: [0.0, 0.0, 5.0]})) # => \"[0.0, 0.0, 25.0]\"\n",
        "# Raises `tf.errors.InvalidArgumentError`, because you must feed a value for\n",
        "# a `tf.placeholder()` when evaluating a tensor that depends on it.\n",
        "# sess.run(y)\n",
        "# Raises `ValueError`, because the shape of `37.0` does not match the shape\n",
        "# of placeholder `x`.\n",
        "# sess.run(y, {x: 37.0})"
      ]
    }
  ]
}