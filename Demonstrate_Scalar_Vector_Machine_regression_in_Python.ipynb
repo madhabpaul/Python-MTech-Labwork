{
  "nbformat": 4,
  "nbformat_minor": 0,
  "metadata": {
    "colab": {
      "provenance": [],
      "authorship_tag": "ABX9TyNtC+XHLOvLBx12gbAUAAaz"
    },
    "kernelspec": {
      "name": "python3",
      "display_name": "Python 3"
    },
    "language_info": {
      "name": "python"
    }
  },
  "cells": [
    {
      "cell_type": "code",
      "execution_count": 1,
      "metadata": {
        "colab": {
          "base_uri": "https://localhost:8080/",
          "height": 1000
        },
        "id": "XDZAzDplVNun",
        "outputId": "8426e7d3-b44a-4781-c6ef-f4e37626a23b"
      },
      "outputs": [
        {
          "output_type": "stream",
          "name": "stdout",
          "text": [
            "[[0.13212203]\n",
            " [0.14825383]\n",
            " [0.28778636]\n",
            " [0.31069889]\n",
            " [0.47957087]\n",
            " [0.69230601]\n",
            " [0.79646411]\n",
            " [0.83138147]\n",
            " [0.84411965]\n",
            " [0.98174248]\n",
            " [1.07659628]\n",
            " [1.21477444]\n",
            " [1.22466754]\n",
            " [1.25568546]\n",
            " [1.30782176]\n",
            " [1.64568605]\n",
            " [1.71387289]\n",
            " [1.89739801]\n",
            " [1.97710647]\n",
            " [2.55303331]\n",
            " [2.69655869]\n",
            " [2.76609833]\n",
            " [2.82573375]\n",
            " [2.85244062]\n",
            " [3.17851449]\n",
            " [3.45560937]\n",
            " [3.79092226]\n",
            " [3.86643086]\n",
            " [3.90508108]\n",
            " [4.18468956]\n",
            " [4.22700872]\n",
            " [4.29174296]\n",
            " [4.6263228 ]\n",
            " [4.66478139]\n",
            " [4.67773901]\n",
            " [4.69373726]\n",
            " [4.73369858]\n",
            " [4.83997478]\n",
            " [4.8811859 ]\n",
            " [4.98473081]]\n",
            "[ 0.13173797  0.14771134  0.28383032  0.30572414  0.46139849  0.63831399\n",
            "  0.71488813  0.73886299  0.74738651  0.83146671  0.88034843  0.9372908\n",
            "  0.9406931   0.95076203  0.965621    0.99719707  0.989782    0.94713808\n",
            "  0.91858539  0.55516335  0.43048853  0.36673246  0.310633    0.28513956\n",
            " -0.03691345 -0.30888142 -0.60465258 -0.66301433 -0.69144579 -0.86396781\n",
            " -0.88449761 -0.91282533 -0.99629859 -0.99886697 -0.99939975 -0.99982606\n",
            " -0.99977296 -0.99187197 -0.98578759 -0.96314362]\n",
            "[-0.90703669  0.14771134  0.28383032  0.30572414  0.46139849 -0.48470766\n",
            "  0.71488813  0.73886299  0.74738651  0.83146671  2.21771757  0.9372908\n",
            "  0.9406931   0.95076203  0.965621    0.31164602  0.989782    0.94713808\n",
            "  0.91858539  0.55516335  0.728028    0.36673246  0.310633    0.28513956\n",
            " -0.03691345 -1.57514108 -0.60465258 -0.66301433 -0.69144579 -0.86396781\n",
            " -0.63162189 -0.91282533 -0.99629859 -0.99886697 -0.99939975 -0.94535153\n",
            " -0.99977296 -0.99187197 -0.98578759 -0.96314362]\n"
          ]
        },
        {
          "output_type": "display_data",
          "data": {
            "text/plain": [
              "<Figure size 432x288 with 1 Axes>"
            ],
            "image/png": "[encoded data removed]"
          },
          "metadata": {
            "needs_background": "light"
          }
        }
      ],
      "source": [
        "import numpy as np\n",
        "from sklearn.svm import SVR\n",
        "import matplotlib.pyplot as plt\n",
        "# #############################################################################\n",
        "# Generate sample data\n",
        "X = np.sort(5 * np.random.rand(40, 1), axis=0)\n",
        "y = np.sin(X).ravel()\n",
        "print (X)\n",
        "print (y)\n",
        "# #############################################################################\n",
        "# Add noise to targets\n",
        "y[::5] += 3 * (0.5 - np.random.rand(8))\n",
        "print (y)\n",
        "# #############################################################################\n",
        "# Fit regression model\n",
        "svr_rbf = SVR(kernel='rbf', C=1e3, gamma=0.1)\n",
        "svr_lin = SVR(kernel='linear', C=1e3)\n",
        "svr_poly = SVR(kernel='poly', C=1e3, degree=2)\n",
        "y_rbf = svr_rbf.fit(X, y).predict(X)\n",
        "y_lin = svr_lin.fit(X, y).predict(X)\n",
        "y_poly = svr_poly.fit(X, y).predict(X)\n",
        "# #############################################################################\n",
        "# Look at the results\n",
        "lw = 2\n",
        "plt.scatter(X, y, color='darkorange', label='data')\n",
        "plt.plot(X, y_rbf, color='navy', lw=lw, label='RBF model')\n",
        "plt.plot(X, y_lin, color='c', lw=lw, label='Linear model')\n",
        "plt.show()"
      ]
    }
  ]
}