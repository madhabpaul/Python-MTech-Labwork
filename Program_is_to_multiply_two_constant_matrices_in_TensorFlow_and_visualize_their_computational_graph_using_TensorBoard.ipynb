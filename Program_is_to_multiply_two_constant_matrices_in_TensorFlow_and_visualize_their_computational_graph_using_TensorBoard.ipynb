{
  "nbformat": 4,
  "nbformat_minor": 0,
  "metadata": {
    "colab": {
      "provenance": [],
      "authorship_tag": "ABX9TyMJR6uRWiRjo4Cd9u5cZ8xM"
    },
    "kernelspec": {
      "name": "python3",
      "display_name": "Python 3"
    },
    "language_info": {
      "name": "python"
    }
  },
  "cells": [
    {
      "cell_type": "code",
      "execution_count": 1,
      "metadata": {
        "colab": {
          "base_uri": "https://localhost:8080/"
        },
        "id": "WWb1QyYSXlfM",
        "outputId": "9cca222f-cc5f-4925-db1d-89f611909b9c"
      },
      "outputs": [
        {
          "output_type": "stream",
          "name": "stderr",
          "text": [
            "WARNING:tensorflow:From /usr/local/lib/python3.8/dist-packages/tensorflow/python/compat/v2_compat.py:107: disable_resource_variables (from tensorflow.python.ops.variable_scope) is deprecated and will be removed in a future version.\n",
            "Instructions for updating:\n",
            "non-resource variables are not supported in the long term\n"
          ]
        },
        {
          "output_type": "stream",
          "name": "stdout",
          "text": [
            "Tensor(\"mat1:0\", shape=(1, 2), dtype=float32)\n",
            "Tensor(\"mat2:0\", shape=(2, 1), dtype=float32)\n",
            "Tensor(\"product:0\", shape=(1, 1), dtype=float32)\n",
            "[[23.]]\n"
          ]
        }
      ],
      "source": [
        "import warnings\n",
        "warnings.filterwarnings(\"ignore\")\n",
        "import tensorflow.compat.v1 as tf\n",
        "tf.disable_v2_behavior()\n",
        "# ******************************************************\n",
        "# visualizing graph with tensorboard\n",
        "mat1 = tf.constant([[2., 3.]], name='mat1')\n",
        "mat2 = tf.constant([[4.],[5.]], name='mat2')\n",
        "product = tf.matmul(mat1, mat2, name='product')\n",
        "print(mat1)\n",
        "print(mat2)\n",
        "print(product)\n",
        "sess = tf.Session()\n",
        "writer = tf.summary.FileWriter('./graphs', sess.graph)\n",
        "writer.add_graph(tf.get_default_graph())\n",
        "print(sess.run(product))"
      ]
    }
  ]
}