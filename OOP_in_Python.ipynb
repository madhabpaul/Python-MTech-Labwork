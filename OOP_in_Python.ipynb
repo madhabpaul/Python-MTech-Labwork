{
  "nbformat": 4,
  "nbformat_minor": 0,
  "metadata": {
    "colab": {
      "provenance": [],
      "authorship_tag": "ABX9TyPqKay0F2MLUHEPONPys5ed"
    },
    "kernelspec": {
      "name": "python3",
      "display_name": "Python 3"
    },
    "language_info": {
      "name": "python"
    }
  },
  "cells": [
    {
      "cell_type": "code",
      "execution_count": 1,
      "metadata": {
        "colab": {
          "base_uri": "https://localhost:8080/"
        },
        "id": "sPwiDgrrTdlx",
        "outputId": "50dab4de-703e-4802-f0f6-73325b60eb1c"
      },
      "outputs": [
        {
          "output_type": "stream",
          "name": "stdout",
          "text": [
            "Name :  Zara , Salary:  2000\n",
            "Name :  Manni , Salary:  5000\n",
            "Total Employee 2\n"
          ]
        }
      ],
      "source": [
        "class Employee:\n",
        "    'Common base class for all employees'\n",
        "    empCount = 0\n",
        "\n",
        "    def __init__(self, name, salary):\n",
        "        self.name = name\n",
        "        self.salary = salary\n",
        "        Employee.empCount += 1\n",
        "\n",
        "    def displayCount(self):\n",
        "        print (\"Total Employee %d\" % Employee.empCount)\n",
        "        \n",
        "    def displayEmployee(self):\n",
        "        print (\"Name : \", self.name, \", Salary: \", self.salary)\n",
        "\n",
        "\n",
        "\"This would create first object of Employee class\"\n",
        "emp1 = Employee(\"Zara\", 2000)\n",
        "\"This would create second object of Employee class\"\n",
        "emp2 = Employee(\"Manni\", 5000)\n",
        "emp1.displayEmployee()\n",
        "emp2.displayEmployee()\n",
        "print (\"Total Employee %d\" % Employee.empCount)"
      ]
    }
  ]
}